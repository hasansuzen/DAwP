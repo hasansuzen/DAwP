{
 "cells": [
  {
   "cell_type": "markdown",
   "metadata": {},
   "source": [
    "Exercise - 1:The following data represent responses from 20 students who were asked “How many hours are you studying in a week?” \n",
    "\n",
    "16 \t15 \t12 \t15 \t10 \t16 \t16 \t15 \t15 \t15 \t12 \t18 \t12 \t14 \t10 \t18 \t15 \t14 \t15 \t15\n",
    "\n",
    "What is the value of the mode? The median? The mean?"
   ]
  },
  {
   "cell_type": "code",
   "execution_count": 44,
   "metadata": {},
   "outputs": [],
   "source": [
    "import numpy as np\n",
    "from scipy import stats\n",
    "import matplotlib.pyplot as plt\n",
    "from scipy.stats import iqr"
   ]
  },
  {
   "cell_type": "code",
   "execution_count": 16,
   "metadata": {},
   "outputs": [],
   "source": [
    "list = [16, 15, 12, 15, 10, 16, 16, 15, 15, 15, 12, 18, 12, 14, 10, 18, 15, 14, 15, 15]"
   ]
  },
  {
   "cell_type": "code",
   "execution_count": 13,
   "metadata": {},
   "outputs": [],
   "source": [
    "nlist = np.array(list)"
   ]
  },
  {
   "cell_type": "code",
   "execution_count": 14,
   "metadata": {},
   "outputs": [],
   "source": [
    "mean = nlist.mean()\n",
    "median = np.median(nlist)\n",
    "mode = stats.mode(nlist)"
   ]
  },
  {
   "cell_type": "code",
   "execution_count": 17,
   "metadata": {},
   "outputs": [
    {
     "name": "stdout",
     "output_type": "stream",
     "text": [
      "mean   : 14.4\n",
      "median : 15.0\n",
      "mode   : ModeResult(mode=array([15]), count=array([8]))\n"
     ]
    }
   ],
   "source": [
    "print(\"mean   :\", mean)\n",
    "print(\"median :\", median)\n",
    "print(\"mode   :\", mode)"
   ]
  },
  {
   "cell_type": "code",
   "execution_count": 27,
   "metadata": {},
   "outputs": [
    {
     "data": {
      "image/png": "[encoded data removed]",
      "text/plain": [
       "<Figure size 432x288 with 1 Axes>"
      ]
     },
     "metadata": {
      "needs_background": "light"
     },
     "output_type": "display_data"
    }
   ],
   "source": [
    "plt.hist(list)\n",
    "plt.xlabel('study hours per week')\n",
    "plt.title(\"How many hours are you studying in a week?\");"
   ]
  },
  {
   "cell_type": "code",
   "execution_count": 28,
   "metadata": {},
   "outputs": [
    {
     "data": {
      "image/png": "[encoded data removed]",
      "text/plain": [
       "<Figure size 432x288 with 1 Axes>"
      ]
     },
     "metadata": {
      "needs_background": "light"
     },
     "output_type": "display_data"
    }
   ],
   "source": [
    "plt.boxplot(list);\n",
    "plt.title(\"How many hours are you studying in a week?\");"
   ]
  },
  {
   "cell_type": "markdown",
   "metadata": {},
   "source": [
    "EXERCISE 2. Use the data below to calculate the mean, variance, and standard deviation.\n",
    "\n",
    "10 \t9 \t7 \t9 \t8 \t9 \t5 \t4"
   ]
  },
  {
   "cell_type": "code",
   "execution_count": 30,
   "metadata": {},
   "outputs": [],
   "source": [
    "list2 = [10, 9, 7, 9, 8, 9, 5, 4]"
   ]
  },
  {
   "cell_type": "code",
   "execution_count": 33,
   "metadata": {},
   "outputs": [],
   "source": [
    "nlist2 = np.array(list2)"
   ]
  },
  {
   "cell_type": "code",
   "execution_count": 36,
   "metadata": {},
   "outputs": [],
   "source": [
    "mean2 = np.mean(nlist2)"
   ]
  },
  {
   "cell_type": "code",
   "execution_count": 37,
   "metadata": {},
   "outputs": [],
   "source": [
    "variance = np.var(nlist2)"
   ]
  },
  {
   "cell_type": "code",
   "execution_count": 38,
   "metadata": {},
   "outputs": [],
   "source": [
    "standard_value = np.std(nlist2)"
   ]
  },
  {
   "cell_type": "code",
   "execution_count": 39,
   "metadata": {},
   "outputs": [
    {
     "name": "stdout",
     "output_type": "stream",
     "text": [
      "mean      : 7.625\n",
      "variance  : 4.64\n",
      "std value : 2.1540659228538015\n"
     ]
    }
   ],
   "source": [
    "print(\"mean      :\", mean2)\n",
    "print(\"variance  :\", var)\n",
    "print(\"std value :\", std)"
   ]
  },
  {
   "cell_type": "code",
   "execution_count": 40,
   "metadata": {},
   "outputs": [
    {
     "data": {
      "image/png": "[encoded data removed]",
      "text/plain": [
       "<Figure size 432x288 with 1 Axes>"
      ]
     },
     "metadata": {
      "needs_background": "light"
     },
     "output_type": "display_data"
    }
   ],
   "source": [
    "plt.hist(nlist2);"
   ]
  },
  {
   "cell_type": "markdown",
   "metadata": {},
   "source": [
    "EXERCISE 3. The list named as salary represents the yearly income for some data scientists in USA.\n",
    "\n",
    "salary = [120, 80, 85, 85, 80, 83, 100, 105, 105, 85, 75, 125, 120, 105, 85, 80, 95, 90, 95, 85, 80, 85, 120, 100, 105, 90]\n",
    "\n",
    "Calculate the mean, median, mode, range, interquartile range, variance, and standard deviation in Python. What can you conclude from these measures?"
   ]
  },
  {
   "cell_type": "code",
   "execution_count": 41,
   "metadata": {},
   "outputs": [],
   "source": [
    "salary = [120, 80, 85, 85, 80, 83, 100, 105, 105, 85, 75, 125, 120, 105, 85, 80, 95, 90, 95, 85, 80, 85, 120, 100, 105, 90]"
   ]
  },
  {
   "cell_type": "code",
   "execution_count": 43,
   "metadata": {},
   "outputs": [],
   "source": [
    "slist = np.array(salary)"
   ]
  },
  {
   "cell_type": "code",
   "execution_count": 46,
   "metadata": {},
   "outputs": [],
   "source": [
    "mean3 = np.mean(slist)\n",
    "median3 = np.median(slist)\n",
    "mode3 = stats.mode(slist)\n",
    "range3 = slist.max()-slist.min()\n",
    "iqr3 = iqr(slist)\n",
    "var3 = np.var(slist)\n",
    "std3 = np.std(slist)"
   ]
  },
  {
   "cell_type": "code",
   "execution_count": 47,
   "metadata": {},
   "outputs": [
    {
     "name": "stdout",
     "output_type": "stream",
     "text": [
      "mean      : 94.73076923076923\n",
      "median    : 90.0\n",
      "mode      : ModeResult(mode=array([85]), count=array([6]))\n",
      "range     : 50\n",
      "iqr       : 20.0\n",
      "variance  : 204.50443786982248\n",
      "std value : 14.300504811712853\n"
     ]
    }
   ],
   "source": [
    "print(\"mean      :\", mean3)\n",
    "print(\"median    :\", median3)\n",
    "print(\"mode      :\", mode3)\n",
    "print(\"range     :\", range3)\n",
    "print(\"iqr       :\", iqr3)\n",
    "print(\"variance  :\", var3)\n",
    "print(\"std value :\", std3)"
   ]
  },
  {
   "cell_type": "code",
   "execution_count": 53,
   "metadata": {},
   "outputs": [
    {
     "data": {
      "image/png": "[encoded data removed]",
      "text/plain": [
       "<Figure size 432x288 with 1 Axes>"
      ]
     },
     "metadata": {
      "needs_background": "light"
     },
     "output_type": "display_data"
    }
   ],
   "source": [
    "plt.hist(slist);"
   ]
  },
  {
   "cell_type": "code",
   "execution_count": 49,
   "metadata": {},
   "outputs": [
    {
     "data": {
      "image/png": "[encoded data removed]",
      "text/plain": [
       "<Figure size 432x288 with 1 Axes>"
      ]
     },
     "metadata": {
      "needs_background": "light"
     },
     "output_type": "display_data"
    }
   ],
   "source": [
    "plt.boxplot(slist);"
   ]
  },
  {
   "attachments": {},
   "cell_type": "markdown",
   "metadata": {},
   "source": [
    "- There seems no outlier within the dataset.\n",
    "- The most popular score is 85.\n",
    "- The histogram seems right skewed, in other words, positively skewed (mode<median<mean)."
   ]
  }
 ],
 "metadata": {
  "kernelspec": {
   "display_name": "Python 3",
   "language": "python",
   "name": "python3"
  },
  "language_info": {
   "codemirror_mode": {
    "name": "ipython",
    "version": 3
   },
   "file_extension": ".py",
   "mimetype": "text/x-python",
   "name": "python",
   "nbconvert_exporter": "python",
   "pygments_lexer": "ipython3",
   "version": "3.7.7"
  }
 },
 "nbformat": 4,
 "nbformat_minor": 4
}
